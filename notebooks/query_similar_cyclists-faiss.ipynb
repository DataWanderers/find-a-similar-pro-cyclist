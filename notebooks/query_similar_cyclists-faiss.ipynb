{
 "cells": [
  {
   "cell_type": "markdown",
   "metadata": {},
   "source": [
    "## Query similar cyclists\n",
    "Draft version (using the **faiss** library)"
   ]
  },
  {
   "cell_type": "code",
   "execution_count": 1,
   "metadata": {},
   "outputs": [],
   "source": [
    "import faiss\n",
    "import pandas as pd\n",
    "import numpy as np"
   ]
  },
  {
   "cell_type": "code",
   "execution_count": 2,
   "metadata": {},
   "outputs": [],
   "source": [
    "df_cyclists = pd.read_excel(\"../data/cyclists_2021.xlsx\")"
   ]
  },
  {
   "cell_type": "code",
   "execution_count": 3,
   "metadata": {},
   "outputs": [
    {
     "data": {
      "text/html": [
       "<div>\n",
       "<style scoped>\n",
       "    .dataframe tbody tr th:only-of-type {\n",
       "        vertical-align: middle;\n",
       "    }\n",
       "\n",
       "    .dataframe tbody tr th {\n",
       "        vertical-align: top;\n",
       "    }\n",
       "\n",
       "    .dataframe thead th {\n",
       "        text-align: right;\n",
       "    }\n",
       "</style>\n",
       "<table border=\"1\" class=\"dataframe\">\n",
       "  <thead>\n",
       "    <tr style=\"text-align: right;\">\n",
       "      <th></th>\n",
       "      <th>gene_sz_lastname</th>\n",
       "      <th>gene_sz_firstname</th>\n",
       "      <th>country</th>\n",
       "      <th>gene_i_birthdate</th>\n",
       "      <th>gene_i_size</th>\n",
       "      <th>gene_i_weight</th>\n",
       "      <th>charac_i_plain</th>\n",
       "      <th>charac_i_mountain</th>\n",
       "      <th>charac_i_downhilling</th>\n",
       "      <th>charac_i_cobble</th>\n",
       "      <th>charac_i_timetrial</th>\n",
       "      <th>charac_i_prologue</th>\n",
       "      <th>charac_i_sprint</th>\n",
       "      <th>charac_i_acceleration</th>\n",
       "      <th>charac_i_endurance</th>\n",
       "      <th>charac_i_resistance</th>\n",
       "      <th>charac_i_recuperation</th>\n",
       "      <th>charac_i_hill</th>\n",
       "      <th>charac_i_baroudeur</th>\n",
       "    </tr>\n",
       "  </thead>\n",
       "  <tbody>\n",
       "    <tr>\n",
       "      <th>0</th>\n",
       "      <td>Rebellin</td>\n",
       "      <td>Davide</td>\n",
       "      <td>Italy</td>\n",
       "      <td>19710809</td>\n",
       "      <td>171</td>\n",
       "      <td>63</td>\n",
       "      <td>65</td>\n",
       "      <td>66</td>\n",
       "      <td>65</td>\n",
       "      <td>57</td>\n",
       "      <td>57</td>\n",
       "      <td>57</td>\n",
       "      <td>62</td>\n",
       "      <td>67</td>\n",
       "      <td>66</td>\n",
       "      <td>66</td>\n",
       "      <td>63</td>\n",
       "      <td>68</td>\n",
       "      <td>65</td>\n",
       "    </tr>\n",
       "    <tr>\n",
       "      <th>1</th>\n",
       "      <td>Zeits</td>\n",
       "      <td>Andrey</td>\n",
       "      <td>Kazakhstan</td>\n",
       "      <td>19861214</td>\n",
       "      <td>189</td>\n",
       "      <td>73</td>\n",
       "      <td>69</td>\n",
       "      <td>74</td>\n",
       "      <td>68</td>\n",
       "      <td>58</td>\n",
       "      <td>69</td>\n",
       "      <td>67</td>\n",
       "      <td>61</td>\n",
       "      <td>66</td>\n",
       "      <td>73</td>\n",
       "      <td>70</td>\n",
       "      <td>74</td>\n",
       "      <td>71</td>\n",
       "      <td>69</td>\n",
       "    </tr>\n",
       "    <tr>\n",
       "      <th>2</th>\n",
       "      <td>Valverde</td>\n",
       "      <td>Alejandro</td>\n",
       "      <td>Spain</td>\n",
       "      <td>19800425</td>\n",
       "      <td>177</td>\n",
       "      <td>61</td>\n",
       "      <td>72</td>\n",
       "      <td>79</td>\n",
       "      <td>75</td>\n",
       "      <td>73</td>\n",
       "      <td>70</td>\n",
       "      <td>72</td>\n",
       "      <td>70</td>\n",
       "      <td>75</td>\n",
       "      <td>76</td>\n",
       "      <td>76</td>\n",
       "      <td>74</td>\n",
       "      <td>81</td>\n",
       "      <td>66</td>\n",
       "    </tr>\n",
       "    <tr>\n",
       "      <th>3</th>\n",
       "      <td>Madouas</td>\n",
       "      <td>Valentin</td>\n",
       "      <td>France</td>\n",
       "      <td>19960712</td>\n",
       "      <td>178</td>\n",
       "      <td>71</td>\n",
       "      <td>74</td>\n",
       "      <td>75</td>\n",
       "      <td>69</td>\n",
       "      <td>75</td>\n",
       "      <td>67</td>\n",
       "      <td>68</td>\n",
       "      <td>69</td>\n",
       "      <td>73</td>\n",
       "      <td>76</td>\n",
       "      <td>73</td>\n",
       "      <td>75</td>\n",
       "      <td>76</td>\n",
       "      <td>76</td>\n",
       "    </tr>\n",
       "    <tr>\n",
       "      <th>4</th>\n",
       "      <td>Seigle</td>\n",
       "      <td>Romain</td>\n",
       "      <td>France</td>\n",
       "      <td>19941011</td>\n",
       "      <td>169</td>\n",
       "      <td>63</td>\n",
       "      <td>74</td>\n",
       "      <td>71</td>\n",
       "      <td>69</td>\n",
       "      <td>63</td>\n",
       "      <td>71</td>\n",
       "      <td>69</td>\n",
       "      <td>74</td>\n",
       "      <td>73</td>\n",
       "      <td>69</td>\n",
       "      <td>69</td>\n",
       "      <td>68</td>\n",
       "      <td>73</td>\n",
       "      <td>69</td>\n",
       "    </tr>\n",
       "  </tbody>\n",
       "</table>\n",
       "</div>"
      ],
      "text/plain": [
       "  gene_sz_lastname gene_sz_firstname     country  gene_i_birthdate  \\\n",
       "0         Rebellin            Davide       Italy          19710809   \n",
       "1            Zeits            Andrey  Kazakhstan          19861214   \n",
       "2         Valverde         Alejandro       Spain          19800425   \n",
       "3          Madouas          Valentin      France          19960712   \n",
       "4           Seigle            Romain      France          19941011   \n",
       "\n",
       "   gene_i_size  gene_i_weight  charac_i_plain  charac_i_mountain  \\\n",
       "0          171             63              65                 66   \n",
       "1          189             73              69                 74   \n",
       "2          177             61              72                 79   \n",
       "3          178             71              74                 75   \n",
       "4          169             63              74                 71   \n",
       "\n",
       "   charac_i_downhilling  charac_i_cobble  charac_i_timetrial  \\\n",
       "0                    65               57                  57   \n",
       "1                    68               58                  69   \n",
       "2                    75               73                  70   \n",
       "3                    69               75                  67   \n",
       "4                    69               63                  71   \n",
       "\n",
       "   charac_i_prologue  charac_i_sprint  charac_i_acceleration  \\\n",
       "0                 57               62                     67   \n",
       "1                 67               61                     66   \n",
       "2                 72               70                     75   \n",
       "3                 68               69                     73   \n",
       "4                 69               74                     73   \n",
       "\n",
       "   charac_i_endurance  charac_i_resistance  charac_i_recuperation  \\\n",
       "0                  66                   66                     63   \n",
       "1                  73                   70                     74   \n",
       "2                  76                   76                     74   \n",
       "3                  76                   73                     75   \n",
       "4                  69                   69                     68   \n",
       "\n",
       "   charac_i_hill  charac_i_baroudeur  \n",
       "0             68                  65  \n",
       "1             71                  69  \n",
       "2             81                  66  \n",
       "3             76                  76  \n",
       "4             73                  69  "
      ]
     },
     "execution_count": 3,
     "metadata": {},
     "output_type": "execute_result"
    }
   ],
   "source": [
    "df_cyclists.head()"
   ]
  },
  {
   "cell_type": "code",
   "execution_count": 4,
   "metadata": {},
   "outputs": [],
   "source": [
    "df_cyclists_meta = df_cyclists.iloc[:, :6].copy()"
   ]
  },
  {
   "cell_type": "code",
   "execution_count": 5,
   "metadata": {},
   "outputs": [],
   "source": [
    "df_cyclists_meta[\"fullname\"] = df_cyclists_meta[\"gene_sz_firstname\"] + \" \" + df_cyclists_meta[\"gene_sz_lastname\"]"
   ]
  },
  {
   "cell_type": "code",
   "execution_count": 6,
   "metadata": {},
   "outputs": [],
   "source": [
    "age = pd.to_datetime(\"today\") - pd.to_datetime(df_cyclists_meta[\"gene_i_birthdate\"], format=\"%Y%m%d\")\n",
    "age = np.floor(age.dt.days / 365)\n",
    "df_cyclists_meta[\"age\"] = age.astype(int)"
   ]
  },
  {
   "cell_type": "code",
   "execution_count": 7,
   "metadata": {},
   "outputs": [
    {
     "data": {
      "text/html": [
       "<div>\n",
       "<style scoped>\n",
       "    .dataframe tbody tr th:only-of-type {\n",
       "        vertical-align: middle;\n",
       "    }\n",
       "\n",
       "    .dataframe tbody tr th {\n",
       "        vertical-align: top;\n",
       "    }\n",
       "\n",
       "    .dataframe thead th {\n",
       "        text-align: right;\n",
       "    }\n",
       "</style>\n",
       "<table border=\"1\" class=\"dataframe\">\n",
       "  <thead>\n",
       "    <tr style=\"text-align: right;\">\n",
       "      <th></th>\n",
       "      <th>gene_sz_lastname</th>\n",
       "      <th>gene_sz_firstname</th>\n",
       "      <th>country</th>\n",
       "      <th>gene_i_birthdate</th>\n",
       "      <th>gene_i_size</th>\n",
       "      <th>gene_i_weight</th>\n",
       "      <th>fullname</th>\n",
       "      <th>age</th>\n",
       "    </tr>\n",
       "  </thead>\n",
       "  <tbody>\n",
       "    <tr>\n",
       "      <th>0</th>\n",
       "      <td>Rebellin</td>\n",
       "      <td>Davide</td>\n",
       "      <td>Italy</td>\n",
       "      <td>19710809</td>\n",
       "      <td>171</td>\n",
       "      <td>63</td>\n",
       "      <td>Davide Rebellin</td>\n",
       "      <td>51</td>\n",
       "    </tr>\n",
       "    <tr>\n",
       "      <th>1</th>\n",
       "      <td>Zeits</td>\n",
       "      <td>Andrey</td>\n",
       "      <td>Kazakhstan</td>\n",
       "      <td>19861214</td>\n",
       "      <td>189</td>\n",
       "      <td>73</td>\n",
       "      <td>Andrey Zeits</td>\n",
       "      <td>35</td>\n",
       "    </tr>\n",
       "    <tr>\n",
       "      <th>2</th>\n",
       "      <td>Valverde</td>\n",
       "      <td>Alejandro</td>\n",
       "      <td>Spain</td>\n",
       "      <td>19800425</td>\n",
       "      <td>177</td>\n",
       "      <td>61</td>\n",
       "      <td>Alejandro Valverde</td>\n",
       "      <td>42</td>\n",
       "    </tr>\n",
       "    <tr>\n",
       "      <th>3</th>\n",
       "      <td>Madouas</td>\n",
       "      <td>Valentin</td>\n",
       "      <td>France</td>\n",
       "      <td>19960712</td>\n",
       "      <td>178</td>\n",
       "      <td>71</td>\n",
       "      <td>Valentin Madouas</td>\n",
       "      <td>26</td>\n",
       "    </tr>\n",
       "    <tr>\n",
       "      <th>4</th>\n",
       "      <td>Seigle</td>\n",
       "      <td>Romain</td>\n",
       "      <td>France</td>\n",
       "      <td>19941011</td>\n",
       "      <td>169</td>\n",
       "      <td>63</td>\n",
       "      <td>Romain Seigle</td>\n",
       "      <td>27</td>\n",
       "    </tr>\n",
       "  </tbody>\n",
       "</table>\n",
       "</div>"
      ],
      "text/plain": [
       "  gene_sz_lastname gene_sz_firstname     country  gene_i_birthdate  \\\n",
       "0         Rebellin            Davide       Italy          19710809   \n",
       "1            Zeits            Andrey  Kazakhstan          19861214   \n",
       "2         Valverde         Alejandro       Spain          19800425   \n",
       "3          Madouas          Valentin      France          19960712   \n",
       "4           Seigle            Romain      France          19941011   \n",
       "\n",
       "   gene_i_size  gene_i_weight            fullname  age  \n",
       "0          171             63     Davide Rebellin   51  \n",
       "1          189             73        Andrey Zeits   35  \n",
       "2          177             61  Alejandro Valverde   42  \n",
       "3          178             71    Valentin Madouas   26  \n",
       "4          169             63       Romain Seigle   27  "
      ]
     },
     "execution_count": 7,
     "metadata": {},
     "output_type": "execute_result"
    }
   ],
   "source": [
    "df_cyclists_meta.head()"
   ]
  },
  {
   "cell_type": "code",
   "execution_count": 8,
   "metadata": {},
   "outputs": [],
   "source": [
    "cyclists_embeddings = df_cyclists.iloc[:, 6:].values.astype(np.float32)  # should be an array\n",
    "cyclists_embeddings = np.ascontiguousarray(cyclists_embeddings)  # should be c-contiguous"
   ]
  },
  {
   "cell_type": "code",
   "execution_count": 9,
   "metadata": {},
   "outputs": [
    {
     "data": {
      "text/plain": [
       "array([[65., 66., 65., ..., 63., 68., 65.],\n",
       "       [69., 74., 68., ..., 74., 71., 69.],\n",
       "       [72., 79., 75., ..., 74., 81., 66.],\n",
       "       ...,\n",
       "       [51., 50., 55., ..., 50., 50., 55.],\n",
       "       [53., 51., 56., ..., 51., 52., 55.],\n",
       "       [57., 52., 58., ..., 53., 55., 57.]], dtype=float32)"
      ]
     },
     "execution_count": 9,
     "metadata": {},
     "output_type": "execute_result"
    }
   ],
   "source": [
    "cyclists_embeddings"
   ]
  },
  {
   "cell_type": "code",
   "execution_count": 10,
   "metadata": {},
   "outputs": [],
   "source": [
    "d = cyclists_embeddings.shape[1]\n",
    "index = faiss.IndexFlatL2(d)"
   ]
  },
  {
   "cell_type": "code",
   "execution_count": 11,
   "metadata": {},
   "outputs": [],
   "source": [
    "age_max = 30\n",
    "\n",
    "if age_max is not None:\n",
    "    population_indices = df_cyclists_meta[df_cyclists_meta.age <= age_max].index\n",
    "else:\n",
    "    population_indices = df_cyclists_meta.index\n",
    "    \n",
    "cyclists_embeddings_population = cyclists_embeddings[population_indices]"
   ]
  },
  {
   "cell_type": "code",
   "execution_count": 12,
   "metadata": {},
   "outputs": [
    {
     "data": {
      "text/plain": [
       "4620"
      ]
     },
     "execution_count": 12,
     "metadata": {},
     "output_type": "execute_result"
    }
   ],
   "source": [
    "index.reset()\n",
    "index.add(cyclists_embeddings_population)\n",
    "index.ntotal"
   ]
  },
  {
   "cell_type": "code",
   "execution_count": 13,
   "metadata": {},
   "outputs": [],
   "source": [
    "all_riders = df_cyclists_meta[\"fullname\"].tolist()\n",
    "# all_riders"
   ]
  },
  {
   "cell_type": "code",
   "execution_count": 14,
   "metadata": {},
   "outputs": [],
   "source": [
    "def display_rider_info(idx, D=None, k_i=0, df_meta=df_cyclists_meta, arr_emb=cyclists_embeddings, n_just=25):\n",
    "    p = f\"{df_meta.fullname.iloc[idx].rjust(n_just)} | age: {df_meta.age.iloc[idx]} | stats: {arr_emb[idx]}\"\n",
    "    if D is not None:\n",
    "        p = p + \" | distance = \" + str(int(D[k_i]))\n",
    "    \n",
    "    print(p)"
   ]
  },
  {
   "cell_type": "code",
   "execution_count": 15,
   "metadata": {},
   "outputs": [],
   "source": [
    "rider = \"Jasper Philipsen\""
   ]
  },
  {
   "cell_type": "code",
   "execution_count": 16,
   "metadata": {},
   "outputs": [],
   "source": [
    "assert rider in all_riders, \"Selected rider not in database, sorry!\"\n",
    "rider_i = all_riders.index(rider)\n",
    "rider_embedding = cyclists_embeddings[[rider_i]]"
   ]
  },
  {
   "cell_type": "code",
   "execution_count": 17,
   "metadata": {},
   "outputs": [],
   "source": [
    "k = 10\n",
    "D, I = index.search(rider_embedding, k + 1)  # search k closest riders (drop first, will be rider_i)"
   ]
  },
  {
   "cell_type": "code",
   "execution_count": 18,
   "metadata": {
    "scrolled": false
   },
   "outputs": [
    {
     "name": "stdout",
     "output_type": "stream",
     "text": [
      "         Jasper Philipsen | age: 24 | stats: [74. 62. 67. 72. 66. 73. 78. 77. 73. 74. 69. 67. 65.]\n",
      "------------------------------------------------------------------------------------------------------------------------\n",
      "           Mike Teunissen | age: 29 | stats: [75. 61. 72. 75. 66. 73. 77. 75. 75. 73. 68. 69. 67.] | distance = 55\n",
      "             Jake Stewart | age: 22 | stats: [74. 59. 65. 72. 66. 73. 76. 75. 71. 70. 66. 71. 65.] | distance = 66\n",
      "                 Cees Bol | age: 27 | stats: [72. 62. 69. 72. 68. 71. 78. 77. 71. 69. 66. 62. 64.] | distance = 80\n",
      "            Arnaud Démare | age: 30 | stats: [73. 60. 70. 73. 71. 72. 81. 80. 74. 76. 71. 69. 62.] | distance = 81\n",
      "         Fernando Gaviria | age: 28 | stats: [72. 63. 70. 70. 61. 71. 77. 79. 72. 70. 72. 68. 68.] | distance = 88\n",
      "             David Dekker | age: 24 | stats: [73. 58. 68. 73. 65. 70. 75. 75. 72. 69. 65. 65. 69.] | distance = 104\n",
      "             Marc Sarreau | age: 29 | stats: [70. 56. 68. 72. 68. 72. 74. 74. 72. 73. 66. 66. 62.] | distance = 104\n",
      "    Amund Grøndahl Jansen | age: 28 | stats: [75. 63. 69. 74. 68. 68. 72. 73. 74. 74. 70. 71. 65.] | distance = 109\n",
      "            Clément Russo | age: 27 | stats: [76. 63. 70. 75. 65. 67. 74. 72. 73. 72. 67. 67. 60.] | distance = 134\n",
      "            Alfred Wright | age: 23 | stats: [73. 64. 67. 67. 67. 71. 73. 72. 70. 68. 67. 69. 65.] | distance = 138\n"
     ]
    }
   ],
   "source": [
    "display_rider_info(rider_i)\n",
    "print(\"-\"*120)\n",
    "\n",
    "for k_i, i in enumerate(I[0][1:]):\n",
    "    display_rider_info(i, D[0][1:], k_i, \n",
    "                       df_meta=df_cyclists_meta.iloc[population_indices],\n",
    "                       arr_emb=cyclists_embeddings_population)"
   ]
  }
 ],
 "metadata": {
  "kernelspec": {
   "display_name": "Python 3",
   "language": "python",
   "name": "python3"
  },
  "language_info": {
   "codemirror_mode": {
    "name": "ipython",
    "version": 3
   },
   "file_extension": ".py",
   "mimetype": "text/x-python",
   "name": "python",
   "nbconvert_exporter": "python",
   "pygments_lexer": "ipython3",
   "version": "3.7.1"
  }
 },
 "nbformat": 4,
 "nbformat_minor": 2
}
