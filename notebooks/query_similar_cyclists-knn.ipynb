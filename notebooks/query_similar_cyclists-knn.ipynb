{
 "cells": [
  {
   "cell_type": "markdown",
   "metadata": {},
   "source": [
    "## Query similar cyclists\n",
    "Draft version (using KNN)"
   ]
  },
  {
   "cell_type": "code",
   "execution_count": 1,
   "metadata": {},
   "outputs": [],
   "source": [
    "import pandas as pd\n",
    "import numpy as np\n",
    "from sklearn.neighbors import NearestNeighbors"
   ]
  },
  {
   "cell_type": "code",
   "execution_count": 2,
   "metadata": {},
   "outputs": [],
   "source": [
    "df_cyclists = pd.read_excel(\"../data/cyclists_2021.xlsx\")"
   ]
  },
  {
   "cell_type": "code",
   "execution_count": 3,
   "metadata": {},
   "outputs": [
    {
     "data": {
      "text/html": [
       "<div>\n",
       "<style scoped>\n",
       "    .dataframe tbody tr th:only-of-type {\n",
       "        vertical-align: middle;\n",
       "    }\n",
       "\n",
       "    .dataframe tbody tr th {\n",
       "        vertical-align: top;\n",
       "    }\n",
       "\n",
       "    .dataframe thead th {\n",
       "        text-align: right;\n",
       "    }\n",
       "</style>\n",
       "<table border=\"1\" class=\"dataframe\">\n",
       "  <thead>\n",
       "    <tr style=\"text-align: right;\">\n",
       "      <th></th>\n",
       "      <th>gene_sz_lastname</th>\n",
       "      <th>gene_sz_firstname</th>\n",
       "      <th>country</th>\n",
       "      <th>gene_i_birthdate</th>\n",
       "      <th>gene_i_size</th>\n",
       "      <th>gene_i_weight</th>\n",
       "      <th>charac_i_plain</th>\n",
       "      <th>charac_i_mountain</th>\n",
       "      <th>charac_i_downhilling</th>\n",
       "      <th>charac_i_cobble</th>\n",
       "      <th>charac_i_timetrial</th>\n",
       "      <th>charac_i_prologue</th>\n",
       "      <th>charac_i_sprint</th>\n",
       "      <th>charac_i_acceleration</th>\n",
       "      <th>charac_i_endurance</th>\n",
       "      <th>charac_i_resistance</th>\n",
       "      <th>charac_i_recuperation</th>\n",
       "      <th>charac_i_hill</th>\n",
       "      <th>charac_i_baroudeur</th>\n",
       "    </tr>\n",
       "  </thead>\n",
       "  <tbody>\n",
       "    <tr>\n",
       "      <th>0</th>\n",
       "      <td>Rebellin</td>\n",
       "      <td>Davide</td>\n",
       "      <td>Italy</td>\n",
       "      <td>19710809</td>\n",
       "      <td>171</td>\n",
       "      <td>63</td>\n",
       "      <td>65</td>\n",
       "      <td>66</td>\n",
       "      <td>65</td>\n",
       "      <td>57</td>\n",
       "      <td>57</td>\n",
       "      <td>57</td>\n",
       "      <td>62</td>\n",
       "      <td>67</td>\n",
       "      <td>66</td>\n",
       "      <td>66</td>\n",
       "      <td>63</td>\n",
       "      <td>68</td>\n",
       "      <td>65</td>\n",
       "    </tr>\n",
       "    <tr>\n",
       "      <th>1</th>\n",
       "      <td>Zeits</td>\n",
       "      <td>Andrey</td>\n",
       "      <td>Kazakhstan</td>\n",
       "      <td>19861214</td>\n",
       "      <td>189</td>\n",
       "      <td>73</td>\n",
       "      <td>69</td>\n",
       "      <td>74</td>\n",
       "      <td>68</td>\n",
       "      <td>58</td>\n",
       "      <td>69</td>\n",
       "      <td>67</td>\n",
       "      <td>61</td>\n",
       "      <td>66</td>\n",
       "      <td>73</td>\n",
       "      <td>70</td>\n",
       "      <td>74</td>\n",
       "      <td>71</td>\n",
       "      <td>69</td>\n",
       "    </tr>\n",
       "    <tr>\n",
       "      <th>2</th>\n",
       "      <td>Valverde</td>\n",
       "      <td>Alejandro</td>\n",
       "      <td>Spain</td>\n",
       "      <td>19800425</td>\n",
       "      <td>177</td>\n",
       "      <td>61</td>\n",
       "      <td>72</td>\n",
       "      <td>79</td>\n",
       "      <td>75</td>\n",
       "      <td>73</td>\n",
       "      <td>70</td>\n",
       "      <td>72</td>\n",
       "      <td>70</td>\n",
       "      <td>75</td>\n",
       "      <td>76</td>\n",
       "      <td>76</td>\n",
       "      <td>74</td>\n",
       "      <td>81</td>\n",
       "      <td>66</td>\n",
       "    </tr>\n",
       "    <tr>\n",
       "      <th>3</th>\n",
       "      <td>Madouas</td>\n",
       "      <td>Valentin</td>\n",
       "      <td>France</td>\n",
       "      <td>19960712</td>\n",
       "      <td>178</td>\n",
       "      <td>71</td>\n",
       "      <td>74</td>\n",
       "      <td>75</td>\n",
       "      <td>69</td>\n",
       "      <td>75</td>\n",
       "      <td>67</td>\n",
       "      <td>68</td>\n",
       "      <td>69</td>\n",
       "      <td>73</td>\n",
       "      <td>76</td>\n",
       "      <td>73</td>\n",
       "      <td>75</td>\n",
       "      <td>76</td>\n",
       "      <td>76</td>\n",
       "    </tr>\n",
       "    <tr>\n",
       "      <th>4</th>\n",
       "      <td>Seigle</td>\n",
       "      <td>Romain</td>\n",
       "      <td>France</td>\n",
       "      <td>19941011</td>\n",
       "      <td>169</td>\n",
       "      <td>63</td>\n",
       "      <td>74</td>\n",
       "      <td>71</td>\n",
       "      <td>69</td>\n",
       "      <td>63</td>\n",
       "      <td>71</td>\n",
       "      <td>69</td>\n",
       "      <td>74</td>\n",
       "      <td>73</td>\n",
       "      <td>69</td>\n",
       "      <td>69</td>\n",
       "      <td>68</td>\n",
       "      <td>73</td>\n",
       "      <td>69</td>\n",
       "    </tr>\n",
       "  </tbody>\n",
       "</table>\n",
       "</div>"
      ],
      "text/plain": [
       "  gene_sz_lastname gene_sz_firstname     country  gene_i_birthdate  \\\n",
       "0         Rebellin            Davide       Italy          19710809   \n",
       "1            Zeits            Andrey  Kazakhstan          19861214   \n",
       "2         Valverde         Alejandro       Spain          19800425   \n",
       "3          Madouas          Valentin      France          19960712   \n",
       "4           Seigle            Romain      France          19941011   \n",
       "\n",
       "   gene_i_size  gene_i_weight  charac_i_plain  charac_i_mountain  \\\n",
       "0          171             63              65                 66   \n",
       "1          189             73              69                 74   \n",
       "2          177             61              72                 79   \n",
       "3          178             71              74                 75   \n",
       "4          169             63              74                 71   \n",
       "\n",
       "   charac_i_downhilling  charac_i_cobble  charac_i_timetrial  \\\n",
       "0                    65               57                  57   \n",
       "1                    68               58                  69   \n",
       "2                    75               73                  70   \n",
       "3                    69               75                  67   \n",
       "4                    69               63                  71   \n",
       "\n",
       "   charac_i_prologue  charac_i_sprint  charac_i_acceleration  \\\n",
       "0                 57               62                     67   \n",
       "1                 67               61                     66   \n",
       "2                 72               70                     75   \n",
       "3                 68               69                     73   \n",
       "4                 69               74                     73   \n",
       "\n",
       "   charac_i_endurance  charac_i_resistance  charac_i_recuperation  \\\n",
       "0                  66                   66                     63   \n",
       "1                  73                   70                     74   \n",
       "2                  76                   76                     74   \n",
       "3                  76                   73                     75   \n",
       "4                  69                   69                     68   \n",
       "\n",
       "   charac_i_hill  charac_i_baroudeur  \n",
       "0             68                  65  \n",
       "1             71                  69  \n",
       "2             81                  66  \n",
       "3             76                  76  \n",
       "4             73                  69  "
      ]
     },
     "execution_count": 3,
     "metadata": {},
     "output_type": "execute_result"
    }
   ],
   "source": [
    "df_cyclists.head()"
   ]
  },
  {
   "cell_type": "code",
   "execution_count": 4,
   "metadata": {},
   "outputs": [],
   "source": [
    "df_cyclists_meta = df_cyclists.iloc[:, :6].copy()"
   ]
  },
  {
   "cell_type": "code",
   "execution_count": 5,
   "metadata": {},
   "outputs": [],
   "source": [
    "df_cyclists_meta[\"fullname\"] = df_cyclists_meta[\"gene_sz_firstname\"] + \" \" + df_cyclists_meta[\"gene_sz_lastname\"]"
   ]
  },
  {
   "cell_type": "code",
   "execution_count": 6,
   "metadata": {},
   "outputs": [],
   "source": [
    "age = pd.to_datetime(\"today\") - pd.to_datetime(df_cyclists_meta[\"gene_i_birthdate\"], format=\"%Y%m%d\")\n",
    "age = np.floor(age.dt.days / 365)\n",
    "df_cyclists_meta[\"age\"] = age.astype(int)"
   ]
  },
  {
   "cell_type": "code",
   "execution_count": 7,
   "metadata": {},
   "outputs": [
    {
     "data": {
      "text/html": [
       "<div>\n",
       "<style scoped>\n",
       "    .dataframe tbody tr th:only-of-type {\n",
       "        vertical-align: middle;\n",
       "    }\n",
       "\n",
       "    .dataframe tbody tr th {\n",
       "        vertical-align: top;\n",
       "    }\n",
       "\n",
       "    .dataframe thead th {\n",
       "        text-align: right;\n",
       "    }\n",
       "</style>\n",
       "<table border=\"1\" class=\"dataframe\">\n",
       "  <thead>\n",
       "    <tr style=\"text-align: right;\">\n",
       "      <th></th>\n",
       "      <th>gene_sz_lastname</th>\n",
       "      <th>gene_sz_firstname</th>\n",
       "      <th>country</th>\n",
       "      <th>gene_i_birthdate</th>\n",
       "      <th>gene_i_size</th>\n",
       "      <th>gene_i_weight</th>\n",
       "      <th>fullname</th>\n",
       "      <th>age</th>\n",
       "    </tr>\n",
       "  </thead>\n",
       "  <tbody>\n",
       "    <tr>\n",
       "      <th>0</th>\n",
       "      <td>Rebellin</td>\n",
       "      <td>Davide</td>\n",
       "      <td>Italy</td>\n",
       "      <td>19710809</td>\n",
       "      <td>171</td>\n",
       "      <td>63</td>\n",
       "      <td>Davide Rebellin</td>\n",
       "      <td>51</td>\n",
       "    </tr>\n",
       "    <tr>\n",
       "      <th>1</th>\n",
       "      <td>Zeits</td>\n",
       "      <td>Andrey</td>\n",
       "      <td>Kazakhstan</td>\n",
       "      <td>19861214</td>\n",
       "      <td>189</td>\n",
       "      <td>73</td>\n",
       "      <td>Andrey Zeits</td>\n",
       "      <td>35</td>\n",
       "    </tr>\n",
       "    <tr>\n",
       "      <th>2</th>\n",
       "      <td>Valverde</td>\n",
       "      <td>Alejandro</td>\n",
       "      <td>Spain</td>\n",
       "      <td>19800425</td>\n",
       "      <td>177</td>\n",
       "      <td>61</td>\n",
       "      <td>Alejandro Valverde</td>\n",
       "      <td>42</td>\n",
       "    </tr>\n",
       "    <tr>\n",
       "      <th>3</th>\n",
       "      <td>Madouas</td>\n",
       "      <td>Valentin</td>\n",
       "      <td>France</td>\n",
       "      <td>19960712</td>\n",
       "      <td>178</td>\n",
       "      <td>71</td>\n",
       "      <td>Valentin Madouas</td>\n",
       "      <td>26</td>\n",
       "    </tr>\n",
       "    <tr>\n",
       "      <th>4</th>\n",
       "      <td>Seigle</td>\n",
       "      <td>Romain</td>\n",
       "      <td>France</td>\n",
       "      <td>19941011</td>\n",
       "      <td>169</td>\n",
       "      <td>63</td>\n",
       "      <td>Romain Seigle</td>\n",
       "      <td>27</td>\n",
       "    </tr>\n",
       "  </tbody>\n",
       "</table>\n",
       "</div>"
      ],
      "text/plain": [
       "  gene_sz_lastname gene_sz_firstname     country  gene_i_birthdate  \\\n",
       "0         Rebellin            Davide       Italy          19710809   \n",
       "1            Zeits            Andrey  Kazakhstan          19861214   \n",
       "2         Valverde         Alejandro       Spain          19800425   \n",
       "3          Madouas          Valentin      France          19960712   \n",
       "4           Seigle            Romain      France          19941011   \n",
       "\n",
       "   gene_i_size  gene_i_weight            fullname  age  \n",
       "0          171             63     Davide Rebellin   51  \n",
       "1          189             73        Andrey Zeits   35  \n",
       "2          177             61  Alejandro Valverde   42  \n",
       "3          178             71    Valentin Madouas   26  \n",
       "4          169             63       Romain Seigle   27  "
      ]
     },
     "execution_count": 7,
     "metadata": {},
     "output_type": "execute_result"
    }
   ],
   "source": [
    "df_cyclists_meta.head()"
   ]
  },
  {
   "cell_type": "code",
   "execution_count": 8,
   "metadata": {},
   "outputs": [],
   "source": [
    "cyclists_embeddings = df_cyclists.iloc[:, 6:].values.astype(np.float32)  # should be an array\n",
    "cyclists_embeddings = np.ascontiguousarray(cyclists_embeddings)  # should be c-contiguous"
   ]
  },
  {
   "cell_type": "code",
   "execution_count": 9,
   "metadata": {},
   "outputs": [
    {
     "data": {
      "text/plain": [
       "array([[65., 66., 65., ..., 63., 68., 65.],\n",
       "       [69., 74., 68., ..., 74., 71., 69.],\n",
       "       [72., 79., 75., ..., 74., 81., 66.],\n",
       "       ...,\n",
       "       [51., 50., 55., ..., 50., 50., 55.],\n",
       "       [53., 51., 56., ..., 51., 52., 55.],\n",
       "       [57., 52., 58., ..., 53., 55., 57.]], dtype=float32)"
      ]
     },
     "execution_count": 9,
     "metadata": {},
     "output_type": "execute_result"
    }
   ],
   "source": [
    "cyclists_embeddings"
   ]
  },
  {
   "cell_type": "code",
   "execution_count": 10,
   "metadata": {},
   "outputs": [],
   "source": [
    "age_max = 30\n",
    "\n",
    "if age_max is not None:\n",
    "    population_indices = df_cyclists_meta[df_cyclists_meta.age <= age_max].index\n",
    "else:\n",
    "    population_indices = df_cyclists_meta.index\n",
    "    \n",
    "cyclists_embeddings_population = cyclists_embeddings[population_indices]"
   ]
  },
  {
   "cell_type": "code",
   "execution_count": 11,
   "metadata": {},
   "outputs": [],
   "source": [
    "all_riders = df_cyclists_meta[\"fullname\"].tolist()\n",
    "# all_riders"
   ]
  },
  {
   "cell_type": "code",
   "execution_count": 12,
   "metadata": {},
   "outputs": [],
   "source": [
    "def display_rider_info(idx, D=None, k_i=0, df_meta=df_cyclists_meta, arr_emb=cyclists_embeddings, n_just=25):\n",
    "    p = f\"{df_meta.fullname.iloc[idx].rjust(n_just)} | age: {df_meta.age.iloc[idx]} | stats: {arr_emb[idx]}\"\n",
    "    if D is not None:\n",
    "        p = p + \" | distance = \" + str(np.round(D[k_i], 4))\n",
    "    \n",
    "    print(p)"
   ]
  },
  {
   "cell_type": "code",
   "execution_count": 13,
   "metadata": {},
   "outputs": [],
   "source": [
    "rider = \"Wout Van Aert\""
   ]
  },
  {
   "cell_type": "code",
   "execution_count": 14,
   "metadata": {},
   "outputs": [],
   "source": [
    "assert rider in all_riders, \"Selected rider not in database, sorry!\"\n",
    "rider_i = all_riders.index(rider)\n",
    "rider_embedding = cyclists_embeddings[[rider_i]]"
   ]
  },
  {
   "cell_type": "code",
   "execution_count": 15,
   "metadata": {},
   "outputs": [],
   "source": [
    "k = 10"
   ]
  },
  {
   "cell_type": "code",
   "execution_count": 16,
   "metadata": {},
   "outputs": [],
   "source": [
    "neigh = NearestNeighbors(n_neighbors=k+1)\n",
    "neigh.fit(cyclists_embeddings_population)\n",
    "D, I = neigh.kneighbors(rider_embedding, return_distance=True)"
   ]
  },
  {
   "cell_type": "code",
   "execution_count": 17,
   "metadata": {},
   "outputs": [
    {
     "name": "stdout",
     "output_type": "stream",
     "text": [
      "            Wout Van Aert | age: 27 | stats: [81. 75. 80. 80. 82. 82. 80. 76. 80. 77. 74. 79. 72.]\n",
      "------------------------------------------------------------------------------------------------------------------------\n",
      "           Kasper Asgreen | age: 27 | stats: [81. 68. 74. 82. 79. 77. 73. 72. 80. 74. 70. 74. 73.] | distance = 15.4596\n",
      "     Søren Kragh Andersen | age: 28 | stats: [82. 71. 75. 73. 79. 82. 72. 70. 76. 78. 72. 75. 82.] | distance = 18.3576\n",
      "          Alberto Bettiol | age: 28 | stats: [78. 73. 73. 76. 75. 77. 70. 73. 78. 72. 68. 75. 70.] | distance = 18.6011\n",
      "             Marc Hirschi | age: 23 | stats: [75. 74. 80. 73. 72. 75. 72. 76. 77. 75. 73. 80. 78.] | distance = 18.7083\n",
      "       Julian Alaphilippe | age: 30 | stats: [73. 75. 80. 76. 75. 74. 69. 79. 80. 78. 70. 83. 79.] | distance = 20.1246\n",
      "    Maximilian Schachmann | age: 27 | stats: [76. 76. 71. 71. 77. 75. 73. 76. 76. 77. 65. 79. 76.] | distance = 20.5913\n",
      "            Gianni Moscon | age: 28 | stats: [76. 73. 72. 76. 74. 74. 71. 72. 79. 73. 66. 75. 72.] | distance = 20.7605\n",
      "            Alex Aranburu | age: 26 | stats: [75. 73. 79. 71. 73. 74. 73. 74. 77. 72. 66. 77. 75.] | distance = 20.7605\n",
      "              Tom Pidcock | age: 23 | stats: [77. 73. 78. 76. 69. 70. 74. 75. 75. 77. 70. 79. 73.] | distance = 20.7846\n",
      "              Dylan Teuns | age: 30 | stats: [76. 74. 69. 76. 75. 75. 69. 74. 78. 72. 71. 76. 74.] | distance = 20.9045\n"
     ]
    }
   ],
   "source": [
    "display_rider_info(rider_i)\n",
    "print(\"-\"*120)\n",
    "\n",
    "for k_i, i in enumerate(I[0][1:]):\n",
    "    display_rider_info(i, D[0][1:], k_i, \n",
    "                       df_meta=df_cyclists_meta.iloc[population_indices],\n",
    "                       arr_emb=cyclists_embeddings_population)"
   ]
  }
 ],
 "metadata": {
  "kernelspec": {
   "display_name": "Python 3",
   "language": "python",
   "name": "python3"
  },
  "language_info": {
   "codemirror_mode": {
    "name": "ipython",
    "version": 3
   },
   "file_extension": ".py",
   "mimetype": "text/x-python",
   "name": "python",
   "nbconvert_exporter": "python",
   "pygments_lexer": "ipython3",
   "version": "3.7.1"
  }
 },
 "nbformat": 4,
 "nbformat_minor": 2
}
